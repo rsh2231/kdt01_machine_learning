{
 "cells": [
  {
   "cell_type": "markdown",
   "id": "9aea7294",
   "metadata": {},
   "source": [
    "# AND 연산을 활용한 머신러닝 연습\n"
   ]
  },
  {
   "cell_type": "markdown",
   "id": "0d1f1cc7",
   "metadata": {},
   "source": []
  },
  {
   "cell_type": "code",
   "execution_count": 82,
   "id": "30ee51c1",
   "metadata": {},
   "outputs": [],
   "source": [
    "import numpy as np"
   ]
  },
  {
   "cell_type": "code",
   "execution_count": 83,
   "id": "8d2b9369",
   "metadata": {},
   "outputs": [],
   "source": [
    "X = np.array([[0, 0], [0, 1], [1, 0], [1, 1]])\n",
    "y = np.array([0, 0, 0, 1])"
   ]
  },
  {
   "cell_type": "markdown",
   "id": "88c52d3e",
   "metadata": {},
   "source": [
    "y = aX + b\n",
    "\n",
    "- a : 기울기(coef\\_, weight)\n",
    "- b : 절편(intercept\\_, bias)\n"
   ]
  },
  {
   "cell_type": "code",
   "execution_count": 159,
   "id": "b1de2f65",
   "metadata": {},
   "outputs": [],
   "source": [
    "weight = np.random.randn(2)\n",
    "bias = np.random.randn()\n",
    "learning_rate = 0.1\n",
    "epochs = 100"
   ]
  },
  {
   "cell_type": "code",
   "execution_count": 160,
   "id": "5bb18807",
   "metadata": {},
   "outputs": [
    {
     "name": "stdout",
     "output_type": "stream",
     "text": [
      "0, 0.5000\n",
      "10, 0.7500\n",
      "20, 1.0000\n",
      "30, 1.0000\n",
      "40, 1.0000\n",
      "50, 1.0000\n",
      "60, 1.0000\n",
      "70, 1.0000\n",
      "80, 1.0000\n",
      "90, 1.0000\n"
     ]
    }
   ],
   "source": [
    "for epoch in range(epochs):\n",
    "    z = np.dot(X, weight) + bias\n",
    "    predictions = np.where(z >= 0, 1, 0)\n",
    "    errors = y - predictions\n",
    "    weight += learning_rate * np.dot(X.T, errors)\n",
    "    bias += learning_rate * np.sum(errors)\n",
    "    accuracy = np.mean(predictions == y)\n",
    "    if epoch % 10 == 0:\n",
    "        print(f\"{epoch}, {accuracy:.4f}\")"
   ]
  },
  {
   "cell_type": "code",
   "execution_count": 158,
   "id": "d7febcc2",
   "metadata": {},
   "outputs": [
    {
     "name": "stdout",
     "output_type": "stream",
     "text": [
      "[0 0], 0, 0\n",
      "[0 1], 0, 0\n",
      "[1 0], 0, 0\n",
      "[1 1], 1, 1\n"
     ]
    }
   ],
   "source": [
    "for i in range(len(X)):\n",
    "    z = np.dot(X[i], weight) + bias\n",
    "    prediction = 1 if z >= 0 else 0\n",
    "    print(f\"{X[i]}, {prediction}, {y[i]}\")"
   ]
  }
 ],
 "metadata": {
  "kernelspec": {
   "display_name": "Python 3",
   "language": "python",
   "name": "python3"
  },
  "language_info": {
   "codemirror_mode": {
    "name": "ipython",
    "version": 3
   },
   "file_extension": ".py",
   "mimetype": "text/x-python",
   "name": "python",
   "nbconvert_exporter": "python",
   "pygments_lexer": "ipython3",
   "version": "3.9.13"
  }
 },
 "nbformat": 4,
 "nbformat_minor": 5
}
