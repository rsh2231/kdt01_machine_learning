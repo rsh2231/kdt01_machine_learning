{
 "cells": [
  {
   "cell_type": "code",
   "execution_count": 51,
   "id": "d6fdf087",
   "metadata": {},
   "outputs": [],
   "source": [
    "import numpy as np\n",
    "import matplotlib.pyplot as plt\n",
    "\n",
    "from sklearn.datasets import fetch_california_housing\n",
    "from sklearn.model_selection import train_test_split\n",
    "from sklearn.preprocessing import StandardScaler, MinMaxScaler, QuantileTransformer\n",
    "from sklearn.linear_model import LogisticRegression\n",
    "from sklearn.svm import SVR\n",
    "from sklearn.ensemble import RandomForestRegressor\n",
    "from sklearn.metrics import accuracy_score, mean_squared_error  # 평균 절대 오차"
   ]
  },
  {
   "cell_type": "markdown",
   "id": "f71339c6",
   "metadata": {},
   "source": [
    "✅ Mean Absolute Error (MAE)란?\n",
    "\n",
    "    - **MAE(평균 절대 오차)**는 회귀 모델의 성능을 평가하는 데 사용되는 지표로, 예측값과 실제값 간의 절대적 차이의 평균을 나타냅니다."
   ]
  },
  {
   "cell_type": "markdown",
   "id": "ce7edc46",
   "metadata": {},
   "source": [
    "✅ MAE의 특징\n",
    "\n",
    "| 항목       | 설명                                     |\n",
    "| -------- | -------------------------------------- |\n",
    "| **직관성**  | \"평균적으로 예측이 실제값에서 얼마나 벗어났는가?\"를 쉽게 설명 가능 |\n",
    "| **단위**   | 예측 대상 변수와 동일한 단위를 가짐                   |\n",
    "| **해석력**  | MAE가 5라면, 평균적으로 5만큼 예측이 틀렸다는 의미        |\n",
    "| **강건성**  | 이상치에 **다소 강함** (MSE보다는 민감하지 않음)        |\n",
    "| **비미분성** | 딥러닝에선 미분이 어렵기 때문에 보통은 MSE가 더 자주 쓰임     |\n"
   ]
  },
  {
   "cell_type": "markdown",
   "id": "eeb508b3",
   "metadata": {},
   "source": [
    "✅ 활용 시기\n",
    "\n",
    "- 회귀 문제에서 모델 예측이 얼마나 틀렸는지를 직관적으로 파악하고 싶을 때\n",
    "- 이상치가 많지 않은 데이터\n",
    "- 사용자에게 \"예측이 평균적으로 이 정도 틀렸다\"고 명확하게 설명해야 할 때"
   ]
  },
  {
   "cell_type": "code",
   "execution_count": 52,
   "id": "387b65ab",
   "metadata": {},
   "outputs": [],
   "source": [
    "california = fetch_california_housing()"
   ]
  },
  {
   "cell_type": "code",
   "execution_count": 53,
   "id": "596ea547",
   "metadata": {},
   "outputs": [],
   "source": [
    "scalers = {\n",
    "    \"None\": None,\n",
    "    \"StandardScaler\": StandardScaler(),\n",
    "    \"MinMaxScaler\": MinMaxScaler(),\n",
    "    \"QuantileTransformer\": QuantileTransformer(output_distribution='normal'),\n",
    "}"
   ]
  },
  {
   "cell_type": "code",
   "execution_count": 54,
   "id": "77199fd6",
   "metadata": {},
   "outputs": [],
   "source": [
    "X_train, X_test, y_train, y_test = train_test_split(california.data, california.target, random_state=42)"
   ]
  },
  {
   "cell_type": "code",
   "execution_count": 45,
   "id": "098fa429",
   "metadata": {},
   "outputs": [],
   "source": [
    "scaling_results = {}\n",
    "for name, scaler in scalers.items():\n",
    "    if scaler is not None:\n",
    "       X_train_scaled = scaler.fit_transform(X_train)\n",
    "       X_test_scaled = scaler.transform(X_test)\n",
    "    else:\n",
    "        X_train_scaled = X_train\n",
    "        X_test_scaled = X_test\n",
    "    \n",
    "    model = RandomForestRegressor()\n",
    "    model.fit(X_train_scaled, y_train)\n",
    "    \n",
    "    y_pred = model.predict(X_test_scaled)\n",
    "    mae = mean_squared_error(y_test, y_pred)\n",
    "    \n",
    "    scaling_results[name] = {\"mae\": mae}"
   ]
  },
  {
   "cell_type": "code",
   "execution_count": 46,
   "id": "e2a67ff6",
   "metadata": {},
   "outputs": [
    {
     "data": {
      "text/plain": [
       "{'None': {'mae': 0.25484337511987826},\n",
       " 'StandardScaler': {'mae': 0.254022084794315},\n",
       " 'MinMaxScaler': {'mae': 0.25423285504993537},\n",
       " 'QuantileTransformer': {'mae': 0.25320296156172767}}"
      ]
     },
     "execution_count": 46,
     "metadata": {},
     "output_type": "execute_result"
    }
   ],
   "source": [
    "scaling_results"
   ]
  },
  {
   "cell_type": "code",
   "execution_count": 50,
   "id": "0138d707",
   "metadata": {},
   "outputs": [
    {
     "name": "stdout",
     "output_type": "stream",
     "text": [
      ".. _california_housing_dataset:\n",
      "\n",
      "California Housing dataset\n",
      "--------------------------\n",
      "\n",
      "**Data Set Characteristics:**\n",
      "\n",
      ":Number of Instances: 20640\n",
      "\n",
      ":Number of Attributes: 8 numeric, predictive attributes and the target\n",
      "\n",
      ":Attribute Information:\n",
      "    - MedInc        median income in block group\n",
      "    - HouseAge      median house age in block group\n",
      "    - AveRooms      average number of rooms per household\n",
      "    - AveBedrms     average number of bedrooms per household\n",
      "    - Population    block group population\n",
      "    - AveOccup      average number of household members\n",
      "    - Latitude      block group latitude\n",
      "    - Longitude     block group longitude\n",
      "\n",
      ":Missing Attribute Values: None\n",
      "\n",
      "This dataset was obtained from the StatLib repository.\n",
      "https://www.dcc.fc.up.pt/~ltorgo/Regression/cal_housing.html\n",
      "\n",
      "The target variable is the median house value for California districts,\n",
      "expressed in hundreds of thousands of dollars ($100,000).\n",
      "\n",
      "This dataset was derived from the 1990 U.S. census, using one row per census\n",
      "block group. A block group is the smallest geographical unit for which the U.S.\n",
      "Census Bureau publishes sample data (a block group typically has a population\n",
      "of 600 to 3,000 people).\n",
      "\n",
      "A household is a group of people residing within a home. Since the average\n",
      "number of rooms and bedrooms in this dataset are provided per household, these\n",
      "columns may take surprisingly large values for block groups with few households\n",
      "and many empty houses, such as vacation resorts.\n",
      "\n",
      "It can be downloaded/loaded using the\n",
      ":func:`sklearn.datasets.fetch_california_housing` function.\n",
      "\n",
      ".. rubric:: References\n",
      "\n",
      "- Pace, R. Kelley and Ronald Barry, Sparse Spatial Autoregressions,\n",
      "  Statistics and Probability Letters, 33 (1997) 291-297\n",
      "\n"
     ]
    }
   ],
   "source": [
    "print(california.DESCR)"
   ]
  }
 ],
 "metadata": {
  "kernelspec": {
   "display_name": "Python 3",
   "language": "python",
   "name": "python3"
  },
  "language_info": {
   "codemirror_mode": {
    "name": "ipython",
    "version": 3
   },
   "file_extension": ".py",
   "mimetype": "text/x-python",
   "name": "python",
   "nbconvert_exporter": "python",
   "pygments_lexer": "ipython3",
   "version": "3.9.13"
  }
 },
 "nbformat": 4,
 "nbformat_minor": 5
}
