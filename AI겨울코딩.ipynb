{
 "cells": [
  {
   "cell_type": "code",
   "execution_count": 1,
   "id": "5a2e0b8c",
   "metadata": {},
   "outputs": [
    {
     "name": "stdout",
     "output_type": "stream",
     "text": [
      "입력 X:\n",
      "[[0 0]\n",
      " [0 1]\n",
      " [1 0]\n",
      " [1 1]]\n",
      "예측 결과:\n",
      "[0 0 0 0]\n",
      "정답과 일치 여부: [ True  True  True False]\n"
     ]
    }
   ],
   "source": [
    "from sklearn.linear_model import LogisticRegression\n",
    "import numpy as np\n",
    "\n",
    "# AND gate 입력과 출력\n",
    "X = np.array([[0, 0],\n",
    "              [0, 1],\n",
    "              [1, 0],\n",
    "              [1, 1]])\n",
    "y = np.array([0, 0, 0, 1])  # AND gate 결과\n",
    "\n",
    "# 모델 생성 및 학습\n",
    "model = LogisticRegression()\n",
    "model.fit(X, y)\n",
    "\n",
    "# 예측\n",
    "predictions = model.predict(X)\n",
    "print(\"입력 X:\")\n",
    "print(X)\n",
    "print(\"예측 결과:\")\n",
    "print(predictions)\n",
    "\n",
    "# 실제 값과 비교\n",
    "print(\"정답과 일치 여부:\", predictions == y)\n"
   ]
  },
  {
   "cell_type": "code",
   "execution_count": 2,
   "id": "6e8f3b42",
   "metadata": {},
   "outputs": [
    {
     "name": "stdout",
     "output_type": "stream",
     "text": [
      "입력 X:\n",
      "[[0 0]\n",
      " [0 1]\n",
      " [1 0]\n",
      " [1 1]]\n",
      "예측 결과:\n",
      "[0 0 0 0]\n",
      "정답과 일치 여부: [ True False False  True]\n"
     ]
    }
   ],
   "source": [
    "from sklearn.linear_model import LogisticRegression\n",
    "import numpy as np\n",
    "\n",
    "# XOR gate 입력과 출력\n",
    "X = np.array([[0, 0],\n",
    "              [0, 1],\n",
    "              [1, 0],\n",
    "              [1, 1]])\n",
    "y = np.array([0, 1, 1, 0])  # XOR 결과\n",
    "\n",
    "# 모델 생성 및 학습\n",
    "model = LogisticRegression()\n",
    "model.fit(X, y)\n",
    "\n",
    "# 예측\n",
    "predictions = model.predict(X)\n",
    "print(\"입력 X:\")\n",
    "print(X)\n",
    "print(\"예측 결과:\")\n",
    "print(predictions)\n",
    "\n",
    "# 실제 값과 비교\n",
    "print(\"정답과 일치 여부:\", predictions == y)\n"
   ]
  },
  {
   "cell_type": "code",
   "execution_count": 5,
   "id": "6161a010",
   "metadata": {},
   "outputs": [
    {
     "name": "stdout",
     "output_type": "stream",
     "text": [
      "예측 결과: [1 1 1 0]\n",
      "정답과 일치 여부: [False  True  True  True]\n"
     ]
    }
   ],
   "source": [
    "from sklearn.linear_model import LogisticRegression\n",
    "from sklearn.preprocessing import PolynomialFeatures\n",
    "from sklearn.pipeline import make_pipeline\n",
    "import numpy as np\n",
    "\n",
    "# XOR 데이터\n",
    "X = np.array([[0, 0],\n",
    "              [0, 1],\n",
    "              [1, 0],\n",
    "              [1, 1]])\n",
    "y = np.array([0, 1, 1, 0])\n",
    "\n",
    "# 다항 특성 추가 + 로지스틱 회귀 파이프라인\n",
    "model = make_pipeline(PolynomialFeatures(degree=2), LogisticRegression())\n",
    "model.fit(X, y)\n",
    "\n",
    "# 예측\n",
    "predictions = model.predict(X)\n",
    "print(\"예측 결과:\", predictions)\n",
    "print(\"정답과 일치 여부:\", predictions == y)\n"
   ]
  },
  {
   "cell_type": "code",
   "execution_count": 4,
   "id": "04a41388",
   "metadata": {},
   "outputs": [
    {
     "name": "stdout",
     "output_type": "stream",
     "text": [
      "예측 결과: [1 1 1 0]\n",
      "정답과 일치 여부: [False  True  True  True]\n"
     ]
    }
   ],
   "source": [
    "from sklearn.linear_model import LogisticRegression\n",
    "from sklearn.preprocessing import PolynomialFeatures\n",
    "from sklearn.pipeline import make_pipeline\n",
    "import numpy as np\n",
    "\n",
    "# XOR gate 입력과 출력\n",
    "X = np.array([[0, 0],\n",
    "              [0, 1],\n",
    "              [1, 0],\n",
    "              [1, 1]])\n",
    "y = np.array([0, 1, 1, 0])\n",
    "\n",
    "# 다항 특성 추가 후 로지스틱 회귀 (solver 설정 필수)\n",
    "model = make_pipeline(\n",
    "    PolynomialFeatures(degree=2, include_bias=False),\n",
    "    LogisticRegression(solver='lbfgs', max_iter=1000)\n",
    ")\n",
    "\n",
    "model.fit(X, y)\n",
    "\n",
    "# 예측\n",
    "predictions = model.predict(X)\n",
    "print(\"예측 결과:\", predictions)\n",
    "print(\"정답과 일치 여부:\", predictions == y)\n"
   ]
  },
  {
   "cell_type": "code",
   "execution_count": 7,
   "id": "7800eb23",
   "metadata": {},
   "outputs": [
    {
     "name": "stdout",
     "output_type": "stream",
     "text": [
      "예측 결과: [0 1 1 0]\n",
      "정답과 일치 여부: [ True  True  True  True]\n"
     ]
    }
   ],
   "source": [
    "from sklearn.svm import SVC\n",
    "import numpy as np\n",
    "\n",
    "# XOR gate 입력과 출력\n",
    "X = np.array([[0, 0],\n",
    "              [0, 1],\n",
    "              [1, 0],\n",
    "              [1, 1]])\n",
    "y = np.array([0, 1, 1, 0])\n",
    "\n",
    "# SVM\n",
    "model = SVC(kernel='rbf')\n",
    "model.fit(X, y)\n",
    "\n",
    "# 예측\n",
    "predictions = model.predict(X)\n",
    "print(\"예측 결과:\", predictions)\n",
    "print(\"정답과 일치 여부:\", predictions == y)\n"
   ]
  },
  {
   "cell_type": "code",
   "execution_count": 2,
   "id": "d8f4f07b",
   "metadata": {},
   "outputs": [
    {
     "name": "stdout",
     "output_type": "stream",
     "text": [
      "예측 결과: [0 1 1 0]\n",
      "정답과 일치 여부: [ True  True  True  True]\n"
     ]
    },
    {
     "name": "stderr",
     "output_type": "stream",
     "text": [
      "c:\\Users\\user\\AppData\\Local\\Programs\\Python\\Python39\\lib\\site-packages\\sklearn\\neural_network\\_multilayer_perceptron.py:691: ConvergenceWarning: Stochastic Optimizer: Maximum iterations (1000) reached and the optimization hasn't converged yet.\n",
      "  warnings.warn(\n"
     ]
    }
   ],
   "source": [
    "from sklearn.neural_network import MLPClassifier\n",
    "import numpy as np\n",
    "\n",
    "# XOR gate 입력과 출력\n",
    "X = np.array([[0, 0],\n",
    "              [0, 1],\n",
    "              [1, 0],\n",
    "              [1, 1]])\n",
    "y = np.array([0, 1, 1, 0])\n",
    "\n",
    "# MLPClassifier\n",
    "model = MLPClassifier(hidden_layer_sizes=([10, 10]) , max_iter=1000)\n",
    "model.fit(X, y)\n",
    "\n",
    "# 예측\n",
    "predictions = model.predict(X)\n",
    "print(\"예측 결과:\", predictions)\n",
    "print(\"정답과 일치 여부:\", predictions == y)"
   ]
  }
 ],
 "metadata": {
  "kernelspec": {
   "display_name": "Python 3",
   "language": "python",
   "name": "python3"
  },
  "language_info": {
   "codemirror_mode": {
    "name": "ipython",
    "version": 3
   },
   "file_extension": ".py",
   "mimetype": "text/x-python",
   "name": "python",
   "nbconvert_exporter": "python",
   "pygments_lexer": "ipython3",
   "version": "3.9.13"
  }
 },
 "nbformat": 4,
 "nbformat_minor": 5
}
