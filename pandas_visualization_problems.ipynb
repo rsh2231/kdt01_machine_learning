{
 "cells": [
  {
   "cell_type": "markdown",
   "id": "b04a136c",
   "metadata": {},
   "source": [
    "# 🐼 실전 데이터 + 시각화 Pandas 문제집"
   ]
  },
  {
   "cell_type": "markdown",
   "id": "625daab0",
   "metadata": {},
   "source": [
    "데이터셋: Titanic (https://www.kaggle.com/c/titanic)\n",
    "\n",
    "이번 문제들은 **pandas와 matplotlib/seaborn을 이용한 시각화** 중심입니다."
   ]
  },
  {
   "cell_type": "markdown",
   "id": "7a1c51d2",
   "metadata": {},
   "source": [
    "## 📊 시각화 문제"
   ]
  },
  {
   "cell_type": "markdown",
   "id": "fa10dd40",
   "metadata": {},
   "source": [
    "### 문제 1\n",
    "나이(Age)의 분포를 히스토그램으로 시각화하세요."
   ]
  },
  {
   "cell_type": "code",
   "execution_count": null,
   "id": "726fb3cb",
   "metadata": {},
   "outputs": [],
   "source": [
    "import pandas as pd\n",
    "import matplotlib.pyplot as plt\n",
    "import seaborn as sns\n",
    "\n",
    "# 예시: 데이터 불러오기\n",
    "# df = pd.read_csv('titanic.csv')\n",
    "# 여기에 시각화 코드를 작성하세요\n"
   ]
  },
  {
   "cell_type": "markdown",
   "id": "141fa9b0",
   "metadata": {},
   "source": [
    "### 문제 2\n",
    "'Fare'의 분포를 커널 밀도 그래프(KDE)로 나타내세요."
   ]
  },
  {
   "cell_type": "code",
   "execution_count": null,
   "id": "53007033",
   "metadata": {},
   "outputs": [],
   "source": [
    "import pandas as pd\n",
    "import matplotlib.pyplot as plt\n",
    "import seaborn as sns\n",
    "\n",
    "# 예시: 데이터 불러오기\n",
    "# df = pd.read_csv('titanic.csv')\n",
    "# 여기에 시각화 코드를 작성하세요\n"
   ]
  },
  {
   "cell_type": "markdown",
   "id": "91f8d4c9",
   "metadata": {},
   "source": [
    "### 문제 3\n",
    "'Pclass'별 승객 수를 막대그래프로 시각화하세요."
   ]
  },
  {
   "cell_type": "code",
   "execution_count": null,
   "id": "df31bd2f",
   "metadata": {},
   "outputs": [],
   "source": [
    "import pandas as pd\n",
    "import matplotlib.pyplot as plt\n",
    "import seaborn as sns\n",
    "\n",
    "# 예시: 데이터 불러오기\n",
    "# df = pd.read_csv('titanic.csv')\n",
    "# 여기에 시각화 코드를 작성하세요\n"
   ]
  },
  {
   "cell_type": "markdown",
   "id": "389ec657",
   "metadata": {},
   "source": [
    "### 문제 4\n",
    "'Survived' 여부에 따른 'Age'의 박스플롯을 그리세요."
   ]
  },
  {
   "cell_type": "code",
   "execution_count": null,
   "id": "99e35662",
   "metadata": {},
   "outputs": [],
   "source": [
    "import pandas as pd\n",
    "import matplotlib.pyplot as plt\n",
    "import seaborn as sns\n",
    "\n",
    "# 예시: 데이터 불러오기\n",
    "# df = pd.read_csv('titanic.csv')\n",
    "# 여기에 시각화 코드를 작성하세요\n"
   ]
  },
  {
   "cell_type": "markdown",
   "id": "08ce8922",
   "metadata": {},
   "source": [
    "### 문제 5\n",
    "'Sex'와 'Survived' 간의 관계를 누적 막대그래프로 표현하세요."
   ]
  },
  {
   "cell_type": "code",
   "execution_count": null,
   "id": "8687eede",
   "metadata": {},
   "outputs": [],
   "source": [
    "import pandas as pd\n",
    "import matplotlib.pyplot as plt\n",
    "import seaborn as sns\n",
    "\n",
    "# 예시: 데이터 불러오기\n",
    "# df = pd.read_csv('titanic.csv')\n",
    "# 여기에 시각화 코드를 작성하세요\n"
   ]
  }
 ],
 "metadata": {},
 "nbformat": 4,
 "nbformat_minor": 5
}
